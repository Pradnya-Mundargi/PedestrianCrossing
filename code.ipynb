{
 "cells": [
  {
   "cell_type": "code",
   "execution_count": null,
   "metadata": {},
   "outputs": [],
   "source": [
    "import ast\n",
    "import pandas as pd\n",
    "from sklearn.ensemble import RandomForestClassifier\n",
    "# Newer versions of sklearn\n",
    "from sklearn.model_selection import train_test_split"
   ]
  },
  {
   "cell_type": "code",
   "execution_count": null,
   "metadata": {},
   "outputs": [],
   "source": [
    "pedestrians_df = pd.read_csv('pedestrian_df.csv')\n",
    "for col_name in ['bounding_boxes', 'frame_numbers', 'moving slow', 'stopped', 'handwave', 'look', 'clear path', 'crossing', 'moving fast', 'looking', 'standing', 'slow down', 'nod', 'speed up']:\n",
    "    pedestrians_df[col_name] = pedestrians_df[col_name].apply(ast.literal_eval)\n",
    "pedestrians_df.head()"
   ]
  },
  {
   "cell_type": "code",
   "execution_count": null,
   "metadata": {},
   "outputs": [],
   "source": [
    "count = 0\n",
    "for i, row in pedestrians_df.iterrows():\n",
    "    count += len(row['frame_numbers'])\n",
    "    \n",
    "print(\"Number of Pedestrian-Frames: %d\" % count)"
   ]
  },
  {
   "cell_type": "code",
   "execution_count": null,
   "metadata": {},
   "outputs": [],
   "source": [
    "# Let's take a more in-depth look at that first row:\n",
    "print(pedestrians_df.iloc[0])\n",
    "print(pedestrians_df.iloc[0]['frame_numbers'])"
   ]
  },
  {
   "cell_type": "code",
   "execution_count": null,
   "metadata": {},
   "outputs": [],
   "source": [
    "#Dropping unrelated columns\n",
    "pedestrians_df=pedestrians_df.drop(['ped_ind','bounding_boxes'], axis=1)"
   ]
  },
  {
   "cell_type": "code",
   "execution_count": null,
   "metadata": {},
   "outputs": [],
   "source": [
    "#split data 70-30\n",
    "from sklearn.model_selection import train_test_split\n",
    "X = pedestrians_df.iloc[:,:-1]\n",
    "y= pedestrians_df.iloc[:,-1]\n",
    "\n",
    "X_train, X_test, y_train, y_test = train_test_split(X, y, test_size=0.3, random_state=42)"
   ]
  },
  {
   "cell_type": "code",
   "execution_count": null,
   "metadata": {},
   "outputs": [],
   "source": [
    "# Explode training datasets\n",
    "X_train = X_train.reset_index()\n",
    "X_test = X_test.reset_index()\n",
    "X_train= X_train.apply(pd.Series.explode)\n",
    "X_test= X_test.apply(pd.Series.explode)\n"
   ]
  },
  {
   "cell_type": "code",
   "execution_count": null,
   "metadata": {},
   "outputs": [],
   "source": [
    "#Encoding\n",
    "from sklearn import preprocessing\n",
    "le = preprocessing.LabelEncoder()\n",
    "\n",
    "for i in X_train.columns:\n",
    "        if i != 'video_id':\n",
    "            X_train[i]=le.fit_transform(X_train[i])\n",
    "    \n",
    "for j in X_test.columns:\n",
    "    if j != 'video_id':\n",
    "        X_test[j]=le.fit_transform(X_test[j])"
   ]
  },
  {
   "cell_type": "code",
   "execution_count": null,
   "metadata": {},
   "outputs": [],
   "source": [
    "# Feature Analysis\n",
    "import seaborn as sns\n",
    "import matplotlib.pyplot as plt\n",
    "\n",
    "plt.figure(figsize=(16, 6))\n",
    "sns.heatmap(X_train.corr(), annot=True)\n"
   ]
  },
  {
   "cell_type": "code",
   "execution_count": null,
   "metadata": {},
   "outputs": [],
   "source": [
    "#X_train and X_test split (target feature= crossing)\n",
    "\n",
    "y_train_1 = X_train.iloc[:,8]\n",
    "X_train_1 = X_train.drop('crossing', axis=1)\n",
    "X_train_1 = X_train_1.iloc[:, 3:]\n",
    "y_test_1 = X_test.iloc[:,8]\n",
    "X_test_sub = X_test.drop('crossing', axis=1)\n",
    "X_test_1 = X_test_sub.iloc[:, 3:]"
   ]
  },
  {
   "cell_type": "code",
   "execution_count": null,
   "metadata": {},
   "outputs": [],
   "source": [
    "#Random Forest Algorithm\n",
    "from sklearn.ensemble import RandomForestClassifier\n",
    "rfc = RandomForestClassifier()\n",
    "rfc.fit(X_train_1, y_train_1)"
   ]
  },
  {
   "cell_type": "code",
   "execution_count": null,
   "metadata": {},
   "outputs": [],
   "source": [
    "# Accuracy check\n",
    "from sklearn.metrics import accuracy_score\n",
    "\n",
    "y_pred_1=rfc.predict(X_test_1)\n",
    "print(\"Accuracy:\",accuracy_score(y_test_1, y_pred_1)*100)"
   ]
  },
  {
   "cell_type": "code",
   "execution_count": null,
   "metadata": {},
   "outputs": [],
   "source": [
    "# Important Features\n",
    "\n",
    "import matplotlib.pyplot as plt\n",
    "import numpy as np\n",
    "\n",
    "importance= rfc.feature_importances_\n",
    "plt.title('Feature Importance')\n",
    "sorted_indices = np.argsort(importance)[::-1]\n",
    "plt.bar(range(X_train_1.shape[1]), importance[sorted_indices], align='center')\n",
    "plt.xticks(range(X_train_1.shape[1]), X_train_1.columns[sorted_indices], rotation=90)\n",
    "plt.tight_layout()\n",
    "plt.show()"
   ]
  },
  {
   "cell_type": "code",
   "execution_count": null,
   "metadata": {},
   "outputs": [],
   "source": [
    "# Create prediction dataframe with respective video_id\n",
    "\n",
    "pred= pd.DataFrame(X_test_sub['video_id'])\n",
    "col=pd.DataFrame(y_pred_1, columns = ['val'])\n",
    "pred=pred.join(col)\n",
    "len(pred)"
   ]
  },
  {
   "cell_type": "code",
   "execution_count": null,
   "metadata": {},
   "outputs": [],
   "source": [
    "# Calculate Final crossing result based on per frame bool values\n",
    "\n",
    "cal=[]\n",
    "final=[]\n",
    "for k in range(max(pred.index)+1):\n",
    "    count0=0\n",
    "    count1=0\n",
    "    \n",
    "    cal.append(pred.loc[k]['val'])\n",
    "    for f in cal[0]:\n",
    "        if f == 0:\n",
    "            count0+=1\n",
    "        else:\n",
    "            count1+=1\n",
    "    \n",
    "    if count0>count1:\n",
    "        final.append(0)\n",
    "        cal.clear()\n",
    "        print('if executed',k)\n",
    "    else:\n",
    "        final.append(1)\n",
    "        cal.clear()\n",
    "        print('else executed',k)\n",
    "        "
   ]
  },
  {
   "cell_type": "code",
   "execution_count": null,
   "metadata": {},
   "outputs": [],
   "source": [
    "# Overall crossing accuracy\n",
    "\n",
    "print(\"Final Accuracy:\",accuracy_score(y_test, final)*100)"
   ]
  }
 ],
 "metadata": {
  "kernelspec": {
   "display_name": "Python 3",
   "language": "python",
   "name": "python3"
  },
  "language_info": {
   "codemirror_mode": {
    "name": "ipython",
    "version": 3
   },
   "file_extension": ".py",
   "mimetype": "text/x-python",
   "name": "python",
   "nbconvert_exporter": "python",
   "pygments_lexer": "ipython3",
   "version": "3.8.8"
  }
 },
 "nbformat": 4,
 "nbformat_minor": 2
}
